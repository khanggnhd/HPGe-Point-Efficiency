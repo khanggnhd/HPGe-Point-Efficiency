{
 "cells": [
  {
   "cell_type": "code",
   "execution_count": 1,
   "id": "be879a72",
   "metadata": {},
   "outputs": [],
   "source": [
    "import numpy as np\n",
    "import matplotlib.pyplot as plt\n",
    "from keras.models import Sequential\n",
    "from keras.layers import Dense\n",
    "import tensorflow as tf\n",
    "import math"
   ]
  },
  {
   "cell_type": "code",
   "execution_count": 2,
   "id": "3eb06354",
   "metadata": {},
   "outputs": [
    {
     "name": "stdout",
     "output_type": "stream",
     "text": [
      "(360, 3)\n",
      "(144, 3)\n",
      "(135, 3)\n"
     ]
    }
   ],
   "source": [
    "train_url = r\"C:\\Code\\Python\\ann\\HPGe_Point_Efficiency\\train.csv\"\n",
    "train_dataset = np.loadtxt(train_url, delimiter=',')\n",
    "print(train_dataset.shape)\n",
    "valid_url = r\"C:\\Code\\Python\\\\ann\\HPGe_Point_Efficiency\\valid.csv\"\n",
    "valid_dataset = np.loadtxt(valid_url, delimiter=',')\n",
    "print(valid_dataset.shape)\n",
    "test_url = r\"C:\\Code\\Python\\ann\\HPGe_Point_Efficiency\\test.csv\"\n",
    "test_dataset = np.loadtxt(test_url, delimiter=',')\n",
    "print(test_dataset.shape)\n",
    "#print(test_dataset[0,0])\n",
    "#print(test_dataset[0:,2])"
   ]
  },
  {
   "cell_type": "code",
   "execution_count": 3,
   "id": "94e044ae",
   "metadata": {},
   "outputs": [
    {
     "data": {
      "text/plain": [
       "[<matplotlib.lines.Line2D at 0x26941f44ac0>]"
      ]
     },
     "execution_count": 3,
     "metadata": {},
     "output_type": "execute_result"
    },
    {
     "data": {
      "image/png": "[encoded data removed]",
      "text/plain": [
       "<Figure size 432x288 with 1 Axes>"
      ]
     },
     "metadata": {
      "needs_background": "light"
     },
     "output_type": "display_data"
    }
   ],
   "source": [
    "plt.plot(train_dataset[0:,0],train_dataset[0:,2],linewidth=0,marker='o',  markersize=3, markerfacecolor='blue', markeredgecolor='blue')\n",
    "plt.plot(valid_dataset[0:,0],valid_dataset[0:,2],linewidth=0,marker='o',  markersize=3, markerfacecolor='red', markeredgecolor='red')\n",
    "plt.plot(test_dataset[0:,0],test_dataset[0:,2],linewidth=0,marker='o',  markersize=3, markerfacecolor='green', markeredgecolor='green')"
   ]
  },
  {
   "cell_type": "code",
   "execution_count": 4,
   "id": "d63f7617",
   "metadata": {},
   "outputs": [
    {
     "name": "stdout",
     "output_type": "stream",
     "text": [
      "(360, 2)\n",
      "(360, 1)\n"
     ]
    }
   ],
   "source": [
    "x_train = train_dataset[:,0:2]\n",
    "x_train[:,0] = x_train[:,0]/26\n",
    "x_train[:,1] = x_train[:,1]/2500\n",
    "y_train = -np.log10(train_dataset[:,2:3])/4\n",
    "x_valid = valid_dataset[:,0:2]\n",
    "x_valid[:,0] = x_valid[:,0]/26\n",
    "x_valid[:,1] = x_valid[:,1]/2500\n",
    "y_valid = -np.log10(valid_dataset[:,2:3])/4\n",
    "x_test = test_dataset[:,0:2]\n",
    "x_test[:,0] = x_test[:,0]/26\n",
    "x_test[:,1] = x_test[:,1]/2500\n",
    "y_test = -np.log10(test_dataset[:,2:3])/4\n",
    "print(x_train.shape)\n",
    "print(y_train.shape)"
   ]
  },
  {
   "cell_type": "code",
   "execution_count": 5,
   "id": "668c9cdf",
   "metadata": {},
   "outputs": [
    {
     "name": "stdout",
     "output_type": "stream",
     "text": [
      "Model: \"sequential\"\n",
      "_________________________________________________________________\n",
      " Layer (type)                Output Shape              Param #   \n",
      "=================================================================\n",
      " dense (Dense)               (None, 10)                30        \n",
      "                                                                 \n",
      " dense_1 (Dense)             (None, 1)                 11        \n",
      "                                                                 \n",
      "=================================================================\n",
      "Total params: 41\n",
      "Trainable params: 41\n",
      "Non-trainable params: 0\n",
      "_________________________________________________________________\n"
     ]
    }
   ],
   "source": [
    "model = Sequential()\n",
    "model.add(Dense(10, input_dim=2, activation='sigmoid'))\n",
    "model.add(Dense(1, activation='sigmoid'))\n",
    "model.summary()"
   ]
  },
  {
   "cell_type": "code",
   "execution_count": 6,
   "id": "920250b6",
   "metadata": {},
   "outputs": [
    {
     "name": "stdout",
     "output_type": "stream",
     "text": [
      "Epoch 1/100\n",
      "18/18 [==============================] - 1s 13ms/step - loss: 0.0279 - val_loss: 0.0063\n",
      "Epoch 2/100\n",
      "18/18 [==============================] - 0s 6ms/step - loss: 0.0074 - val_loss: 0.0023\n",
      "Epoch 3/100\n",
      "18/18 [==============================] - 0s 4ms/step - loss: 0.0025 - val_loss: 0.0019\n",
      "Epoch 4/100\n",
      "18/18 [==============================] - 0s 3ms/step - loss: 0.0021 - val_loss: 0.0016\n",
      "Epoch 5/100\n",
      "18/18 [==============================] - 0s 4ms/step - loss: 0.0020 - val_loss: 0.0016\n",
      "Epoch 6/100\n",
      "18/18 [==============================] - 0s 4ms/step - loss: 0.0020 - val_loss: 0.0016\n",
      "Epoch 7/100\n",
      "18/18 [==============================] - 0s 4ms/step - loss: 0.0021 - val_loss: 0.0015\n",
      "Epoch 8/100\n",
      "18/18 [==============================] - 0s 4ms/step - loss: 0.0019 - val_loss: 0.0016\n",
      "Epoch 9/100\n",
      "18/18 [==============================] - 0s 4ms/step - loss: 0.0019 - val_loss: 0.0015\n",
      "Epoch 10/100\n",
      "18/18 [==============================] - 0s 4ms/step - loss: 0.0017 - val_loss: 0.0018\n",
      "Epoch 11/100\n",
      "18/18 [==============================] - 0s 4ms/step - loss: 0.0018 - val_loss: 0.0013\n",
      "Epoch 12/100\n",
      "18/18 [==============================] - 0s 4ms/step - loss: 0.0015 - val_loss: 0.0012\n",
      "Epoch 13/100\n",
      "18/18 [==============================] - 0s 4ms/step - loss: 0.0014 - val_loss: 0.0011\n",
      "Epoch 14/100\n",
      "18/18 [==============================] - 0s 5ms/step - loss: 0.0013 - val_loss: 0.0013\n",
      "Epoch 15/100\n",
      "18/18 [==============================] - 0s 4ms/step - loss: 0.0013 - val_loss: 0.0013\n",
      "Epoch 16/100\n",
      "18/18 [==============================] - 0s 4ms/step - loss: 0.0012 - val_loss: 0.0013\n",
      "Epoch 17/100\n",
      "18/18 [==============================] - 0s 4ms/step - loss: 0.0013 - val_loss: 0.0012\n",
      "Epoch 18/100\n",
      "18/18 [==============================] - 0s 4ms/step - loss: 0.0014 - val_loss: 0.0012\n",
      "Epoch 19/100\n",
      "18/18 [==============================] - 0s 4ms/step - loss: 0.0012 - val_loss: 0.0013\n",
      "Epoch 20/100\n",
      "18/18 [==============================] - 0s 4ms/step - loss: 0.0013 - val_loss: 0.0012\n",
      "Epoch 21/100\n",
      "18/18 [==============================] - 0s 4ms/step - loss: 0.0014 - val_loss: 0.0011\n",
      "Epoch 22/100\n",
      "18/18 [==============================] - 0s 4ms/step - loss: 0.0013 - val_loss: 0.0016\n",
      "Epoch 23/100\n",
      "18/18 [==============================] - 0s 4ms/step - loss: 0.0013 - val_loss: 0.0012\n",
      "Epoch 24/100\n",
      "18/18 [==============================] - 0s 4ms/step - loss: 0.0014 - val_loss: 0.0014\n",
      "Epoch 25/100\n",
      "18/18 [==============================] - 0s 4ms/step - loss: 0.0015 - val_loss: 0.0011\n",
      "Epoch 26/100\n",
      "18/18 [==============================] - 0s 4ms/step - loss: 0.0013 - val_loss: 0.0013\n",
      "Epoch 27/100\n",
      "18/18 [==============================] - 0s 5ms/step - loss: 0.0012 - val_loss: 0.0014\n",
      "Epoch 28/100\n",
      "18/18 [==============================] - 0s 4ms/step - loss: 0.0015 - val_loss: 0.0012\n",
      "Epoch 29/100\n",
      "18/18 [==============================] - 0s 4ms/step - loss: 0.0013 - val_loss: 0.0012\n",
      "Epoch 30/100\n",
      "18/18 [==============================] - 0s 4ms/step - loss: 0.0013 - val_loss: 0.0012\n",
      "Epoch 31/100\n",
      "18/18 [==============================] - 0s 4ms/step - loss: 0.0014 - val_loss: 0.0017\n",
      "Epoch 32/100\n",
      "18/18 [==============================] - 0s 4ms/step - loss: 0.0016 - val_loss: 0.0018\n",
      "Epoch 33/100\n",
      "18/18 [==============================] - 0s 4ms/step - loss: 0.0015 - val_loss: 0.0012\n",
      "Epoch 34/100\n",
      "18/18 [==============================] - 0s 4ms/step - loss: 0.0014 - val_loss: 0.0013\n",
      "Epoch 35/100\n",
      "18/18 [==============================] - 0s 4ms/step - loss: 0.0015 - val_loss: 0.0013\n",
      "Epoch 36/100\n",
      "18/18 [==============================] - 0s 4ms/step - loss: 0.0013 - val_loss: 0.0012\n",
      "Epoch 37/100\n",
      "18/18 [==============================] - 0s 4ms/step - loss: 0.0013 - val_loss: 0.0013\n",
      "Epoch 38/100\n",
      "18/18 [==============================] - 0s 4ms/step - loss: 0.0013 - val_loss: 0.0013\n",
      "Epoch 39/100\n",
      "18/18 [==============================] - 0s 4ms/step - loss: 0.0013 - val_loss: 0.0019\n",
      "Epoch 40/100\n",
      "18/18 [==============================] - 0s 4ms/step - loss: 0.0015 - val_loss: 0.0011\n",
      "Epoch 41/100\n",
      "18/18 [==============================] - 0s 5ms/step - loss: 0.0013 - val_loss: 0.0011\n",
      "Epoch 42/100\n",
      "18/18 [==============================] - 0s 5ms/step - loss: 0.0013 - val_loss: 0.0014\n",
      "Epoch 43/100\n",
      "18/18 [==============================] - 0s 4ms/step - loss: 0.0014 - val_loss: 0.0011\n",
      "Epoch 44/100\n",
      "18/18 [==============================] - 0s 4ms/step - loss: 0.0013 - val_loss: 0.0015\n",
      "Epoch 45/100\n",
      "18/18 [==============================] - 0s 4ms/step - loss: 0.0012 - val_loss: 0.0011\n",
      "Epoch 46/100\n",
      "18/18 [==============================] - 0s 4ms/step - loss: 0.0012 - val_loss: 0.0011\n",
      "Epoch 47/100\n",
      "18/18 [==============================] - 0s 4ms/step - loss: 0.0013 - val_loss: 0.0012\n",
      "Epoch 48/100\n",
      "18/18 [==============================] - 0s 4ms/step - loss: 0.0012 - val_loss: 0.0011\n",
      "Epoch 49/100\n",
      "18/18 [==============================] - 0s 4ms/step - loss: 0.0013 - val_loss: 0.0012\n",
      "Epoch 50/100\n",
      "18/18 [==============================] - 0s 4ms/step - loss: 0.0015 - val_loss: 0.0010\n",
      "Epoch 51/100\n",
      "18/18 [==============================] - 0s 4ms/step - loss: 0.0015 - val_loss: 0.0020\n",
      "Epoch 52/100\n",
      "18/18 [==============================] - 0s 4ms/step - loss: 0.0019 - val_loss: 0.0036\n",
      "Epoch 53/100\n",
      "18/18 [==============================] - 0s 4ms/step - loss: 0.0017 - val_loss: 0.0011\n",
      "Epoch 54/100\n",
      "18/18 [==============================] - 0s 4ms/step - loss: 0.0013 - val_loss: 0.0011\n",
      "Epoch 55/100\n",
      "18/18 [==============================] - 0s 4ms/step - loss: 0.0015 - val_loss: 0.0011\n",
      "Epoch 56/100\n",
      "18/18 [==============================] - 0s 4ms/step - loss: 0.0014 - val_loss: 0.0011\n",
      "Epoch 57/100\n",
      "18/18 [==============================] - 0s 4ms/step - loss: 0.0013 - val_loss: 0.0011\n",
      "Epoch 58/100\n",
      "18/18 [==============================] - 0s 4ms/step - loss: 0.0014 - val_loss: 0.0018\n",
      "Epoch 59/100\n",
      "18/18 [==============================] - 0s 4ms/step - loss: 0.0016 - val_loss: 0.0016\n",
      "Epoch 60/100\n",
      "18/18 [==============================] - 0s 4ms/step - loss: 0.0016 - val_loss: 0.0011\n",
      "Epoch 61/100\n",
      "18/18 [==============================] - 0s 4ms/step - loss: 0.0013 - val_loss: 0.0016\n",
      "Epoch 62/100\n",
      "18/18 [==============================] - 0s 5ms/step - loss: 0.0013 - val_loss: 0.0014\n",
      "Epoch 63/100\n",
      "18/18 [==============================] - 0s 4ms/step - loss: 0.0012 - val_loss: 0.0011\n",
      "Epoch 64/100\n",
      "18/18 [==============================] - 0s 4ms/step - loss: 0.0012 - val_loss: 0.0013\n",
      "Epoch 65/100\n",
      "18/18 [==============================] - 0s 3ms/step - loss: 0.0014 - val_loss: 0.0014\n",
      "Epoch 66/100\n",
      "18/18 [==============================] - 0s 4ms/step - loss: 0.0013 - val_loss: 0.0010\n",
      "Epoch 67/100\n",
      "18/18 [==============================] - 0s 4ms/step - loss: 0.0012 - val_loss: 0.0012\n",
      "Epoch 68/100\n",
      "18/18 [==============================] - 0s 4ms/step - loss: 0.0015 - val_loss: 0.0022\n",
      "Epoch 69/100\n",
      "18/18 [==============================] - 0s 4ms/step - loss: 0.0016 - val_loss: 0.0018\n",
      "Epoch 70/100\n",
      "18/18 [==============================] - 0s 5ms/step - loss: 0.0011 - val_loss: 0.0013\n",
      "Epoch 71/100\n",
      "18/18 [==============================] - 0s 4ms/step - loss: 0.0013 - val_loss: 0.0012\n",
      "Epoch 72/100\n",
      "18/18 [==============================] - 0s 4ms/step - loss: 0.0014 - val_loss: 0.0010\n",
      "Epoch 73/100\n",
      "18/18 [==============================] - 0s 4ms/step - loss: 0.0012 - val_loss: 0.0010\n",
      "Epoch 74/100\n",
      "18/18 [==============================] - 0s 4ms/step - loss: 0.0012 - val_loss: 0.0010\n",
      "Epoch 75/100\n",
      "18/18 [==============================] - 0s 4ms/step - loss: 0.0011 - val_loss: 0.0011\n",
      "Epoch 76/100\n",
      "18/18 [==============================] - 0s 4ms/step - loss: 0.0012 - val_loss: 0.0011\n",
      "Epoch 77/100\n",
      "18/18 [==============================] - 0s 4ms/step - loss: 0.0012 - val_loss: 0.0010\n",
      "Epoch 78/100\n",
      "18/18 [==============================] - 0s 4ms/step - loss: 0.0011 - val_loss: 0.0010\n",
      "Epoch 79/100\n",
      "18/18 [==============================] - 0s 4ms/step - loss: 0.0011 - val_loss: 0.0010\n",
      "Epoch 80/100\n",
      "18/18 [==============================] - 0s 4ms/step - loss: 0.0012 - val_loss: 0.0011\n",
      "Epoch 81/100\n",
      "18/18 [==============================] - 0s 3ms/step - loss: 0.0011 - val_loss: 0.0010\n",
      "Epoch 82/100\n",
      "18/18 [==============================] - 0s 4ms/step - loss: 0.0013 - val_loss: 0.0012\n",
      "Epoch 83/100\n"
     ]
    },
    {
     "name": "stdout",
     "output_type": "stream",
     "text": [
      "18/18 [==============================] - 0s 4ms/step - loss: 0.0013 - val_loss: 0.0011\n",
      "Epoch 84/100\n",
      "18/18 [==============================] - 0s 4ms/step - loss: 0.0012 - val_loss: 9.8831e-04\n",
      "Epoch 85/100\n",
      "18/18 [==============================] - 0s 4ms/step - loss: 0.0011 - val_loss: 0.0012\n",
      "Epoch 86/100\n",
      "18/18 [==============================] - 0s 4ms/step - loss: 0.0012 - val_loss: 0.0011\n",
      "Epoch 87/100\n",
      "18/18 [==============================] - 0s 4ms/step - loss: 0.0012 - val_loss: 0.0010\n",
      "Epoch 88/100\n",
      "18/18 [==============================] - 0s 4ms/step - loss: 0.0012 - val_loss: 0.0015\n",
      "Epoch 89/100\n",
      "18/18 [==============================] - 0s 4ms/step - loss: 0.0012 - val_loss: 0.0010\n",
      "Epoch 90/100\n",
      "18/18 [==============================] - 0s 4ms/step - loss: 0.0011 - val_loss: 9.6741e-04\n",
      "Epoch 91/100\n",
      "18/18 [==============================] - 0s 3ms/step - loss: 0.0011 - val_loss: 0.0015\n",
      "Epoch 92/100\n",
      "18/18 [==============================] - 0s 4ms/step - loss: 0.0013 - val_loss: 0.0010\n",
      "Epoch 93/100\n",
      "18/18 [==============================] - 0s 4ms/step - loss: 0.0014 - val_loss: 0.0017\n",
      "Epoch 94/100\n",
      "18/18 [==============================] - 0s 3ms/step - loss: 0.0013 - val_loss: 0.0015\n",
      "Epoch 95/100\n",
      "18/18 [==============================] - 0s 3ms/step - loss: 0.0016 - val_loss: 0.0015\n",
      "Epoch 96/100\n",
      "18/18 [==============================] - 0s 4ms/step - loss: 0.0013 - val_loss: 0.0010\n",
      "Epoch 97/100\n",
      "18/18 [==============================] - 0s 3ms/step - loss: 0.0014 - val_loss: 9.6702e-04\n",
      "Epoch 98/100\n",
      "18/18 [==============================] - 0s 4ms/step - loss: 0.0013 - val_loss: 0.0013\n",
      "Epoch 99/100\n",
      "18/18 [==============================] - 0s 4ms/step - loss: 0.0012 - val_loss: 9.6263e-04\n",
      "Epoch 100/100\n",
      "18/18 [==============================] - 0s 3ms/step - loss: 0.0011 - val_loss: 0.0012\n",
      "Model weights:  [array([[ 3.5881119 ,  1.0099208 , -1.7502779 , -7.418666  , -3.541051  ,\n",
      "        -2.2103772 , -4.6942654 ,  2.3901176 ,  1.8398894 ,  0.6425622 ],\n",
      "       [-1.374891  , -8.505482  , -1.4992056 ,  0.26537496, -0.03874467,\n",
      "        -0.975971  , -0.5913084 ,  0.08454471,  2.6195986 ,  3.1285527 ]],\n",
      "      dtype=float32), array([-1.4807038 ,  1.5363209 , -1.3517205 , -0.37630805, -1.1360626 ,\n",
      "       -2.3909123 , -1.3425188 , -2.5163946 , -4.6036444 , -3.4483962 ],\n",
      "      dtype=float32), array([[ 1.0785575 ],\n",
      "       [-0.89137894],\n",
      "       [-0.18636207],\n",
      "       [-1.8120203 ],\n",
      "       [-0.75202775],\n",
      "       [-0.15993154],\n",
      "       [-0.78622663],\n",
      "       [ 0.6844486 ],\n",
      "       [ 0.34936193],\n",
      "       [ 0.6658682 ]], dtype=float32), array([0.24550006], dtype=float32)]\n"
     ]
    }
   ],
   "source": [
    "opt = tf.keras.optimizers.Adam(learning_rate=0.1)\n",
    "model.compile(optimizer=opt, loss='mean_squared_error')\n",
    "history = model.fit(x_train, y_train, epochs=100, batch_size=20,validation_data=(x_valid, y_valid))\n",
    "print('Model weights: ', model.get_weights())\n",
    "model.save('HPGe_Point_Efficiency.h5')"
   ]
  },
  {
   "cell_type": "code",
   "execution_count": 7,
   "id": "3861c805",
   "metadata": {},
   "outputs": [
    {
     "data": {
      "text/plain": [
       "[<matplotlib.lines.Line2D at 0x26943580700>]"
      ]
     },
     "execution_count": 7,
     "metadata": {},
     "output_type": "execute_result"
    },
    {
     "data": {
      "image/png": "[encoded data removed]",
      "text/plain": [
       "<Figure size 432x288 with 1 Axes>"
      ]
     },
     "metadata": {
      "needs_background": "light"
     },
     "output_type": "display_data"
    }
   ],
   "source": [
    "training_loss = history.history['loss']\n",
    "epoch_count = range(1, len(training_loss) + 1)\n",
    "plt.yscale(\"log\")\n",
    "plt.plot(epoch_count, training_loss, 'r-')"
   ]
  },
  {
   "cell_type": "code",
   "execution_count": 8,
   "id": "18c8496b",
   "metadata": {},
   "outputs": [
    {
     "name": "stdout",
     "output_type": "stream",
     "text": [
      "3.27116284492269\n",
      "98.45772602189636\n"
     ]
    },
    {
     "data": {
      "text/plain": [
       "[<matplotlib.lines.Line2D at 0x2694374edf0>]"
      ]
     },
     "execution_count": 8,
     "metadata": {},
     "output_type": "execute_result"
    },
    {
     "data": {
      "image/png": "[encoded data removed]",
      "text/plain": [
       "<Figure size 432x288 with 1 Axes>"
      ]
     },
     "metadata": {
      "needs_background": "light"
     },
     "output_type": "display_data"
    }
   ],
   "source": [
    "model = tf.keras.models.load_model('HPGe_Point_Efficiency.h5')\n",
    "y_predict = model.predict(x_test)\n",
    "error = np.abs((y_predict-y_test)/y_test)\n",
    "recovery = np.abs(y_predict/y_test)\n",
    "print(np.average(error)*100)\n",
    "print(np.average(recovery)*100)\n",
    "plt.plot(range(y_test.size),y_test,linewidth=0,marker='o',  markersize=5, markerfacecolor='blue', markeredgecolor='blue')\n",
    "plt.plot(range(y_test.size),y_predict,linewidth=0,marker='o',  markersize=3, markerfacecolor='red', markeredgecolor='red')"
   ]
  },
  {
   "cell_type": "code",
   "execution_count": 9,
   "id": "0fd40438",
   "metadata": {},
   "outputs": [
    {
     "name": "stdout",
     "output_type": "stream",
     "text": [
      "0.29168385433057425\n",
      "1.2179946349757296\n",
      "0.0025691135098428893\n",
      "0.0011939202213769493\n"
     ]
    },
    {
     "data": {
      "text/plain": [
       "[<matplotlib.lines.Line2D at 0x269447c3b50>]"
      ]
     },
     "execution_count": 9,
     "metadata": {},
     "output_type": "execute_result"
    },
    {
     "data": {
      "image/png": "[encoded data removed]",
      "text/plain": [
       "<Figure size 432x288 with 1 Axes>"
      ]
     },
     "metadata": {
      "needs_background": "light"
     },
     "output_type": "display_data"
    }
   ],
   "source": [
    "model = tf.keras.models.load_model('HPGe_Point_Efficiency.h5')\n",
    "y_predict = model.predict(x_valid)\n",
    "\n",
    "relative_error = np.average(np.abs((np.power(10,-y_predict*4)-np.power(10,-y_valid*4))/np.power(10,-y_valid*4)))\n",
    "recovery = np.average(np.abs(np.power(10,-y_predict*4)/np.power(10,-y_valid*4)))\n",
    "rmse = np.power(np.average(np.power(np.power(10,-y_predict*4)-np.power(10,-y_valid*4),2)),0.5)\n",
    "mae = np.average(np.abs(np.power(10,-y_predict*4)-np.power(10,-y_valid*4)))\n",
    "\n",
    "print(relative_error)\n",
    "print(recovery)\n",
    "print(rmse)\n",
    "print(mae)\n",
    "\n",
    "plt.plot(range(y_valid.size),np.power(10,-y_valid*4),linewidth=0,marker='o',  markersize=5, markerfacecolor='blue', markeredgecolor='blue')\n",
    "plt.plot(range(y_valid.size),np.power(10,-y_predict*4),linewidth=0,marker='o',  markersize=3, markerfacecolor='red', markeredgecolor='red')"
   ]
  },
  {
   "cell_type": "code",
   "execution_count": 10,
   "id": "97341994",
   "metadata": {},
   "outputs": [
    {
     "name": "stdout",
     "output_type": "stream",
     "text": [
      "Model: \"sequential_1\"\n",
      "_________________________________________________________________\n",
      " Layer (type)                Output Shape              Param #   \n",
      "=================================================================\n",
      " dense_2 (Dense)             (None, 1)                 3         \n",
      "                                                                 \n",
      " dense_3 (Dense)             (None, 1)                 2         \n",
      "                                                                 \n",
      "=================================================================\n",
      "Total params: 5\n",
      "Trainable params: 5\n",
      "Non-trainable params: 0\n",
      "_________________________________________________________________\n",
      "Epoch 1/100\n",
      "18/18 [==============================] - 0s 9ms/step - loss: 0.0243 - val_loss: 0.0117\n",
      "Epoch 2/100\n",
      "18/18 [==============================] - 0s 4ms/step - loss: 0.0161 - val_loss: 0.0059\n",
      "Epoch 3/100\n",
      "18/18 [==============================] - 0s 4ms/step - loss: 0.0064 - val_loss: 0.0018\n",
      "Epoch 4/100\n",
      "18/18 [==============================] - 0s 4ms/step - loss: 0.0031 - val_loss: 0.0029\n",
      "Epoch 5/100\n",
      "18/18 [==============================] - 0s 4ms/step - loss: 0.0032 - val_loss: 0.0023\n",
      "Epoch 6/100\n",
      "18/18 [==============================] - 0s 4ms/step - loss: 0.0028 - val_loss: 0.0020\n",
      "Epoch 7/100\n",
      "18/18 [==============================] - 0s 5ms/step - loss: 0.0028 - val_loss: 0.0028\n",
      "Epoch 8/100\n",
      "18/18 [==============================] - 0s 5ms/step - loss: 0.0028 - val_loss: 0.0019\n",
      "Epoch 9/100\n",
      "18/18 [==============================] - 0s 4ms/step - loss: 0.0027 - val_loss: 0.0018\n",
      "Epoch 10/100\n",
      "18/18 [==============================] - 0s 4ms/step - loss: 0.0030 - val_loss: 0.0033\n",
      "Epoch 11/100\n",
      "18/18 [==============================] - 0s 4ms/step - loss: 0.0029 - val_loss: 0.0018\n",
      "Epoch 12/100\n",
      "18/18 [==============================] - 0s 5ms/step - loss: 0.0026 - val_loss: 0.0020\n",
      "Epoch 13/100\n",
      "18/18 [==============================] - 0s 4ms/step - loss: 0.0026 - val_loss: 0.0017\n",
      "Epoch 14/100\n",
      "18/18 [==============================] - 0s 4ms/step - loss: 0.0025 - val_loss: 0.0018\n",
      "Epoch 15/100\n",
      "18/18 [==============================] - 0s 4ms/step - loss: 0.0025 - val_loss: 0.0017\n",
      "Epoch 16/100\n",
      "18/18 [==============================] - 0s 4ms/step - loss: 0.0025 - val_loss: 0.0018\n",
      "Epoch 17/100\n",
      "18/18 [==============================] - 0s 4ms/step - loss: 0.0026 - val_loss: 0.0030\n",
      "Epoch 18/100\n",
      "18/18 [==============================] - 0s 4ms/step - loss: 0.0028 - val_loss: 0.0017\n",
      "Epoch 19/100\n",
      "18/18 [==============================] - 0s 4ms/step - loss: 0.0029 - val_loss: 0.0022\n",
      "Epoch 20/100\n",
      "18/18 [==============================] - 0s 4ms/step - loss: 0.0027 - val_loss: 0.0022\n",
      "Epoch 21/100\n",
      "18/18 [==============================] - 0s 4ms/step - loss: 0.0025 - val_loss: 0.0034\n",
      "Epoch 22/100\n",
      "18/18 [==============================] - 0s 4ms/step - loss: 0.0025 - val_loss: 0.0024\n",
      "Epoch 23/100\n",
      "18/18 [==============================] - 0s 4ms/step - loss: 0.0026 - val_loss: 0.0018\n",
      "Epoch 24/100\n",
      "18/18 [==============================] - 0s 4ms/step - loss: 0.0025 - val_loss: 0.0018\n",
      "Epoch 25/100\n",
      "18/18 [==============================] - 0s 4ms/step - loss: 0.0026 - val_loss: 0.0026\n",
      "Epoch 26/100\n",
      "18/18 [==============================] - 0s 5ms/step - loss: 0.0024 - val_loss: 0.0020\n",
      "Epoch 27/100\n",
      "18/18 [==============================] - 0s 4ms/step - loss: 0.0028 - val_loss: 0.0032\n",
      "Epoch 28/100\n",
      "18/18 [==============================] - 0s 5ms/step - loss: 0.0025 - val_loss: 0.0021\n",
      "Epoch 29/100\n",
      "18/18 [==============================] - 0s 4ms/step - loss: 0.0024 - val_loss: 0.0029\n",
      "Epoch 30/100\n",
      "18/18 [==============================] - 0s 4ms/step - loss: 0.0024 - val_loss: 0.0016\n",
      "Epoch 31/100\n",
      "18/18 [==============================] - 0s 4ms/step - loss: 0.0025 - val_loss: 0.0021\n",
      "Epoch 32/100\n",
      "18/18 [==============================] - 0s 4ms/step - loss: 0.0027 - val_loss: 0.0038\n",
      "Epoch 33/100\n",
      "18/18 [==============================] - 0s 4ms/step - loss: 0.0026 - val_loss: 0.0017\n",
      "Epoch 34/100\n",
      "18/18 [==============================] - 0s 4ms/step - loss: 0.0023 - val_loss: 0.0023\n",
      "Epoch 35/100\n",
      "18/18 [==============================] - 0s 4ms/step - loss: 0.0023 - val_loss: 0.0018\n",
      "Epoch 36/100\n",
      "18/18 [==============================] - 0s 4ms/step - loss: 0.0024 - val_loss: 0.0024\n",
      "Epoch 37/100\n",
      "18/18 [==============================] - 0s 4ms/step - loss: 0.0024 - val_loss: 0.0018\n",
      "Epoch 38/100\n",
      "18/18 [==============================] - 0s 4ms/step - loss: 0.0025 - val_loss: 0.0018\n",
      "Epoch 39/100\n",
      "18/18 [==============================] - 0s 4ms/step - loss: 0.0025 - val_loss: 0.0016\n",
      "Epoch 40/100\n",
      "18/18 [==============================] - 0s 4ms/step - loss: 0.0023 - val_loss: 0.0017\n",
      "Epoch 41/100\n",
      "18/18 [==============================] - 0s 4ms/step - loss: 0.0026 - val_loss: 0.0020\n",
      "Epoch 42/100\n",
      "18/18 [==============================] - 0s 4ms/step - loss: 0.0025 - val_loss: 0.0017\n",
      "Epoch 43/100\n",
      "18/18 [==============================] - 0s 4ms/step - loss: 0.0025 - val_loss: 0.0016\n",
      "Epoch 44/100\n",
      "18/18 [==============================] - 0s 4ms/step - loss: 0.0023 - val_loss: 0.0018\n",
      "Epoch 45/100\n",
      "18/18 [==============================] - 0s 4ms/step - loss: 0.0026 - val_loss: 0.0024\n",
      "Epoch 46/100\n",
      "18/18 [==============================] - 0s 4ms/step - loss: 0.0024 - val_loss: 0.0019\n",
      "Epoch 47/100\n",
      "18/18 [==============================] - 0s 4ms/step - loss: 0.0024 - val_loss: 0.0031\n",
      "Epoch 48/100\n",
      "18/18 [==============================] - 0s 3ms/step - loss: 0.0026 - val_loss: 0.0017\n",
      "Epoch 49/100\n",
      "18/18 [==============================] - 0s 3ms/step - loss: 0.0026 - val_loss: 0.0021\n",
      "Epoch 50/100\n",
      "18/18 [==============================] - 0s 3ms/step - loss: 0.0027 - val_loss: 0.0025\n",
      "Epoch 51/100\n",
      "18/18 [==============================] - 0s 3ms/step - loss: 0.0026 - val_loss: 0.0026\n",
      "Epoch 52/100\n",
      "18/18 [==============================] - 0s 5ms/step - loss: 0.0025 - val_loss: 0.0020\n",
      "Epoch 53/100\n",
      "18/18 [==============================] - 0s 3ms/step - loss: 0.0023 - val_loss: 0.0017\n",
      "Epoch 54/100\n",
      "18/18 [==============================] - 0s 4ms/step - loss: 0.0023 - val_loss: 0.0017\n",
      "Epoch 55/100\n",
      "18/18 [==============================] - 0s 4ms/step - loss: 0.0023 - val_loss: 0.0021\n",
      "Epoch 56/100\n",
      "18/18 [==============================] - 0s 4ms/step - loss: 0.0024 - val_loss: 0.0016\n",
      "Epoch 57/100\n",
      "18/18 [==============================] - 0s 3ms/step - loss: 0.0025 - val_loss: 0.0020\n",
      "Epoch 58/100\n",
      "18/18 [==============================] - 0s 4ms/step - loss: 0.0024 - val_loss: 0.0019\n",
      "Epoch 59/100\n",
      "18/18 [==============================] - 0s 3ms/step - loss: 0.0024 - val_loss: 0.0021\n",
      "Epoch 60/100\n",
      "18/18 [==============================] - 0s 4ms/step - loss: 0.0023 - val_loss: 0.0016\n",
      "Epoch 61/100\n",
      "18/18 [==============================] - 0s 3ms/step - loss: 0.0024 - val_loss: 0.0015\n",
      "Epoch 62/100\n",
      "18/18 [==============================] - 0s 4ms/step - loss: 0.0025 - val_loss: 0.0019\n",
      "Epoch 63/100\n",
      "18/18 [==============================] - 0s 3ms/step - loss: 0.0023 - val_loss: 0.0019\n",
      "Epoch 64/100\n",
      "18/18 [==============================] - 0s 4ms/step - loss: 0.0023 - val_loss: 0.0017\n",
      "Epoch 65/100\n",
      "18/18 [==============================] - 0s 3ms/step - loss: 0.0022 - val_loss: 0.0018\n",
      "Epoch 66/100\n",
      "18/18 [==============================] - 0s 4ms/step - loss: 0.0023 - val_loss: 0.0024\n",
      "Epoch 67/100\n",
      "18/18 [==============================] - 0s 3ms/step - loss: 0.0023 - val_loss: 0.0019\n",
      "Epoch 68/100\n",
      "18/18 [==============================] - 0s 4ms/step - loss: 0.0022 - val_loss: 0.0016\n",
      "Epoch 69/100\n",
      "18/18 [==============================] - 0s 3ms/step - loss: 0.0024 - val_loss: 0.0028\n",
      "Epoch 70/100\n",
      "18/18 [==============================] - 0s 4ms/step - loss: 0.0022 - val_loss: 0.0019\n",
      "Epoch 71/100\n",
      "18/18 [==============================] - 0s 4ms/step - loss: 0.0023 - val_loss: 0.0020\n",
      "Epoch 72/100\n",
      "18/18 [==============================] - 0s 3ms/step - loss: 0.0024 - val_loss: 0.0016\n",
      "Epoch 73/100\n",
      "18/18 [==============================] - 0s 3ms/step - loss: 0.0023 - val_loss: 0.0016\n",
      "Epoch 74/100\n",
      "18/18 [==============================] - 0s 3ms/step - loss: 0.0026 - val_loss: 0.0041\n",
      "Epoch 75/100\n",
      "18/18 [==============================] - 0s 3ms/step - loss: 0.0025 - val_loss: 0.0017\n",
      "Epoch 76/100\n"
     ]
    },
    {
     "name": "stdout",
     "output_type": "stream",
     "text": [
      "18/18 [==============================] - 0s 3ms/step - loss: 0.0026 - val_loss: 0.0023\n",
      "Epoch 77/100\n",
      "18/18 [==============================] - 0s 3ms/step - loss: 0.0026 - val_loss: 0.0016\n",
      "Epoch 78/100\n",
      "18/18 [==============================] - 0s 3ms/step - loss: 0.0025 - val_loss: 0.0021\n",
      "Epoch 79/100\n",
      "18/18 [==============================] - 0s 3ms/step - loss: 0.0026 - val_loss: 0.0024\n",
      "Epoch 80/100\n",
      "18/18 [==============================] - 0s 3ms/step - loss: 0.0025 - val_loss: 0.0024\n",
      "Epoch 81/100\n",
      "18/18 [==============================] - 0s 4ms/step - loss: 0.0028 - val_loss: 0.0018\n",
      "Epoch 82/100\n",
      "18/18 [==============================] - 0s 4ms/step - loss: 0.0023 - val_loss: 0.0028\n",
      "Epoch 83/100\n",
      "18/18 [==============================] - 0s 3ms/step - loss: 0.0024 - val_loss: 0.0017\n",
      "Epoch 84/100\n",
      "18/18 [==============================] - 0s 3ms/step - loss: 0.0024 - val_loss: 0.0017\n",
      "Epoch 85/100\n",
      "18/18 [==============================] - 0s 3ms/step - loss: 0.0024 - val_loss: 0.0029\n",
      "Epoch 86/100\n",
      "18/18 [==============================] - 0s 4ms/step - loss: 0.0024 - val_loss: 0.0017\n",
      "Epoch 87/100\n",
      "18/18 [==============================] - 0s 4ms/step - loss: 0.0022 - val_loss: 0.0024\n",
      "Epoch 88/100\n",
      "18/18 [==============================] - 0s 4ms/step - loss: 0.0026 - val_loss: 0.0027\n",
      "Epoch 89/100\n",
      "18/18 [==============================] - 0s 3ms/step - loss: 0.0026 - val_loss: 0.0016\n",
      "Epoch 90/100\n",
      "18/18 [==============================] - 0s 3ms/step - loss: 0.0022 - val_loss: 0.0017\n",
      "Epoch 91/100\n",
      "18/18 [==============================] - 0s 4ms/step - loss: 0.0022 - val_loss: 0.0017\n",
      "Epoch 92/100\n",
      "18/18 [==============================] - 0s 5ms/step - loss: 0.0023 - val_loss: 0.0016\n",
      "Epoch 93/100\n",
      "18/18 [==============================] - 0s 4ms/step - loss: 0.0024 - val_loss: 0.0018\n",
      "Epoch 94/100\n",
      "18/18 [==============================] - 0s 4ms/step - loss: 0.0022 - val_loss: 0.0017\n",
      "Epoch 95/100\n",
      "18/18 [==============================] - 0s 3ms/step - loss: 0.0023 - val_loss: 0.0021\n",
      "Epoch 96/100\n",
      "18/18 [==============================] - 0s 3ms/step - loss: 0.0024 - val_loss: 0.0015\n",
      "Epoch 97/100\n",
      "18/18 [==============================] - 0s 4ms/step - loss: 0.0023 - val_loss: 0.0016\n",
      "Epoch 98/100\n",
      "18/18 [==============================] - 0s 4ms/step - loss: 0.0022 - val_loss: 0.0018\n",
      "Epoch 99/100\n",
      "18/18 [==============================] - 0s 3ms/step - loss: 0.0024 - val_loss: 0.0018\n",
      "Epoch 100/100\n",
      "18/18 [==============================] - 0s 4ms/step - loss: 0.0024 - val_loss: 0.0015\n",
      "Model weights:  [array([[2.2527494],\n",
      "       [1.3147312]], dtype=float32), array([-1.1232636], dtype=float32), array([[3.876526]], dtype=float32), array([-1.7983786], dtype=float32)]\n"
     ]
    },
    {
     "ename": "ValueError",
     "evalue": "operands could not be broadcast together with shapes (135,1) (144,1) ",
     "output_type": "error",
     "traceback": [
      "\u001b[1;31m---------------------------------------------------------------------------\u001b[0m",
      "\u001b[1;31mValueError\u001b[0m                                Traceback (most recent call last)",
      "Input \u001b[1;32mIn [10]\u001b[0m, in \u001b[0;36m<cell line: 1>\u001b[1;34m()\u001b[0m\n\u001b[0;32m     14\u001b[0m model \u001b[38;5;241m=\u001b[39m tf\u001b[38;5;241m.\u001b[39mkeras\u001b[38;5;241m.\u001b[39mmodels\u001b[38;5;241m.\u001b[39mload_model(\u001b[38;5;124m'\u001b[39m\u001b[38;5;124mHPGe_Point_Efficiency_loop.h5\u001b[39m\u001b[38;5;124m'\u001b[39m)\n\u001b[0;32m     15\u001b[0m y_predict \u001b[38;5;241m=\u001b[39m model\u001b[38;5;241m.\u001b[39mpredict(x_test)\n\u001b[1;32m---> 17\u001b[0m relative_error \u001b[38;5;241m=\u001b[39m np\u001b[38;5;241m.\u001b[39maverage(np\u001b[38;5;241m.\u001b[39mabs((\u001b[43mnp\u001b[49m\u001b[38;5;241;43m.\u001b[39;49m\u001b[43mpower\u001b[49m\u001b[43m(\u001b[49m\u001b[38;5;241;43m10\u001b[39;49m\u001b[43m,\u001b[49m\u001b[38;5;241;43m-\u001b[39;49m\u001b[43my_predict\u001b[49m\u001b[38;5;241;43m*\u001b[39;49m\u001b[38;5;241;43m4\u001b[39;49m\u001b[43m)\u001b[49m\u001b[38;5;241;43m-\u001b[39;49m\u001b[43mnp\u001b[49m\u001b[38;5;241;43m.\u001b[39;49m\u001b[43mpower\u001b[49m\u001b[43m(\u001b[49m\u001b[38;5;241;43m10\u001b[39;49m\u001b[43m,\u001b[49m\u001b[38;5;241;43m-\u001b[39;49m\u001b[43my_valid\u001b[49m\u001b[38;5;241;43m*\u001b[39;49m\u001b[38;5;241;43m4\u001b[39;49m\u001b[43m)\u001b[49m)\u001b[38;5;241m/\u001b[39mnp\u001b[38;5;241m.\u001b[39mpower(\u001b[38;5;241m10\u001b[39m,\u001b[38;5;241m-\u001b[39my_valid\u001b[38;5;241m*\u001b[39m\u001b[38;5;241m4\u001b[39m)))\n\u001b[0;32m     18\u001b[0m recovery \u001b[38;5;241m=\u001b[39m np\u001b[38;5;241m.\u001b[39maverage(np\u001b[38;5;241m.\u001b[39mabs(np\u001b[38;5;241m.\u001b[39mpower(\u001b[38;5;241m10\u001b[39m,\u001b[38;5;241m-\u001b[39my_predict\u001b[38;5;241m*\u001b[39m\u001b[38;5;241m4\u001b[39m)\u001b[38;5;241m/\u001b[39mnp\u001b[38;5;241m.\u001b[39mpower(\u001b[38;5;241m10\u001b[39m,\u001b[38;5;241m-\u001b[39my_valid\u001b[38;5;241m*\u001b[39m\u001b[38;5;241m4\u001b[39m)))\n\u001b[0;32m     19\u001b[0m rmse \u001b[38;5;241m=\u001b[39m np\u001b[38;5;241m.\u001b[39mpower(np\u001b[38;5;241m.\u001b[39maverage(np\u001b[38;5;241m.\u001b[39mpower(np\u001b[38;5;241m.\u001b[39mpower(\u001b[38;5;241m10\u001b[39m,\u001b[38;5;241m-\u001b[39my_predict\u001b[38;5;241m*\u001b[39m\u001b[38;5;241m4\u001b[39m)\u001b[38;5;241m-\u001b[39mnp\u001b[38;5;241m.\u001b[39mpower(\u001b[38;5;241m10\u001b[39m,\u001b[38;5;241m-\u001b[39my_valid\u001b[38;5;241m*\u001b[39m\u001b[38;5;241m4\u001b[39m),\u001b[38;5;241m2\u001b[39m)),\u001b[38;5;241m0.5\u001b[39m)\n",
      "\u001b[1;31mValueError\u001b[0m: operands could not be broadcast together with shapes (135,1) (144,1) "
     ]
    }
   ],
   "source": [
    "for i in range(1,201):\n",
    "    model = Sequential()\n",
    "    model.add(Dense(i, input_dim=2, activation='sigmoid'))\n",
    "    model.add(Dense(1, activation='sigmoid'))\n",
    "    model.summary()\n",
    "\n",
    "    opt = tf.keras.optimizers.Adam(learning_rate=0.1)\n",
    "    model.compile(optimizer=opt, loss='mean_squared_error')\n",
    "    history = model.fit(x_train, y_train, epochs=100, batch_size=20,validation_data=(x_valid, y_valid))\n",
    "    print('Model weights: ', model.get_weights())\n",
    "    training_loss = history.history['loss']\n",
    "    model.save('HPGe_Point_Efficiency_loop.h5')\n",
    "\n",
    "    model = tf.keras.models.load_model('HPGe_Point_Efficiency_loop.h5')\n",
    "    y_predict = model.predict(x_valid)\n",
    "    \n",
    "    relative_error = np.average(np.abs((np.power(10,-y_predict*4)-np.power(10,-y_valid*4))/np.power(10,-y_valid*4)))\n",
    "    recovery = np.average(np.abs(np.power(10,-y_predict*4)/np.power(10,-y_valid*4)))\n",
    "    rmse = np.power(np.average(np.power(np.power(10,-y_predict*4)-np.power(10,-y_valid*4),2)),0.5)\n",
    "    mae = np.average(np.abs(np.power(10,-y_predict*4)-np.power(10,-y_valid*4)))\n",
    "    \n",
    "    f = open(\"record.txt\",\"a\")\n",
    "    f.write( str(i) + '\\t' + str(relative_error) + '\\t' +str(recovery) + '\\t' + str(rmse) +'\\t'+ str(mae) + '\\n')\n",
    "    f.close()"
   ]
  }
 ],
 "metadata": {
  "kernelspec": {
   "display_name": "Python 3 (ipykernel)",
   "language": "python",
   "name": "python3"
  },
  "language_info": {
   "codemirror_mode": {
    "name": "ipython",
    "version": 3
   },
   "file_extension": ".py",
   "mimetype": "text/x-python",
   "name": "python",
   "nbconvert_exporter": "python",
   "pygments_lexer": "ipython3",
   "version": "3.9.5"
  }
 },
 "nbformat": 4,
 "nbformat_minor": 5
}
